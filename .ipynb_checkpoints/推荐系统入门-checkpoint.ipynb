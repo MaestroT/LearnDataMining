{
 "cells": [
  {
   "cell_type": "markdown",
   "metadata": {},
   "source": [
    "## 推荐系统入门\n",
    "### 曼哈顿距离\n",
    "二维模型中，两个点(x1,y1)与(x2,y2)之间的曼哈顿距离是：\n",
    "$$|x_1 - x_2|+|y_1 - y_2|$$\n",
    "也就是x之差的绝对值加上y之差的绝对值\n",
    "### 欧几里得距离\n",
    "利用勾股定理，两个点之间的欧几里得距离是：\n",
    "$$\\sqrt{(x_1-x_2)^2+(y_1-y_2)^2} \\quad$$\n",
    "### N维模型\n",
    "对于N维模型的曼哈顿距离：\n",
    "$$|x_11 - x_12|+|x_21 - x_22| + {\\cdots} + |x_n1 - x_n2|$$\n",
    "对于N维模型的欧几里得距离：\n",
    "$$\\sqrt{(x_11-x_12)^2+(x_21-x_22)^2 +(x_n1-x_n2)^2} \\quad$$\n",
    "### 闵可夫斯基距离\n",
    "将曼哈顿距离和欧几里得距离归纳成一个公式：\n",
    "$$d(x,y)=(\\sum_{k=1}^n|x_k - y_k|^r)^\\frac{1}{r}\\quad$$\n",
    "其中：\n",
    "$$r=1时即曼哈顿距离$$\n",
    "$$r=2时即欧几里得距离$$\n",
    "$$r=\\infty 时极大距离$$\n",
    "r值越大，单个维度的差值大小会对整体距离有更大的影响"
   ]
  },
  {
   "cell_type": "markdown",
   "metadata": {},
   "source": [
    "![title](rating.png)"
   ]
  },
  {
   "cell_type": "code",
   "execution_count": 9,
   "metadata": {},
   "outputs": [],
   "source": [
    "users = {\"Angelica\": {\"Blues Traveler\": 3.5, \"Broken Bells\": 2.0, \"Norah Jones\": 4.5, \n",
    "                      \"Phoenix\": 5.0, \"Slightly Stoopid\": 1.5, \"The Strokes\": 2.5, \n",
    "                      \"Vampire Weekend\": 2.0},\n",
    "         \"Bill\":{\"Blues Traveler\": 2.0, \"Broken Bells\": 3.5, \"Deadmau5\": 4.0, \n",
    "                 \"Phoenix\": 2.0, \"Slightly Stoopid\": 3.5, \"Vampire Weekend\": 3.0},\n",
    " \"Chan\": {\"Blues Traveler\": 5.0, \"Broken Bells\": 1.0, \"Deadmau5\": 1.0, \n",
    "\"Norah Jones\": 3.0, \"Phoenix\": 5, \"Slightly Stoopid\": 1.0},\n",
    " \"Dan\": {\"Blues Traveler\": 3.0, \"Broken Bells\": 4.0, \"Deadmau5\": 4.5, \n",
    "         \"Phoenix\": 3.0, \"Slightly Stoopid\": 4.5, \"The Strokes\": 4.0, \"Vampire Weekend\": 2.0},\n",
    " \"Hailey\": {\"Broken Bells\": 4.0, \"Deadmau5\": 1.0, \"Norah Jones\": 4.0, \"The Strokes\": 4.0, \"Vampire Weekend\": 1.0},\n",
    " \"Jordyn\": {\"Broken Bells\": 4.5, \"Deadmau5\": 4.0, \"Norah Jones\": 5.0, \n",
    "\"Phoenix\": 5.0, \"Slightly Stoopid\": 4.5, \"The Strokes\": 4.0, \"Vampire Weekend\":4.0},\n",
    " \"Sam\": {\"Blues Traveler\": 5.0, \"Broken Bells\": 2.0, \"Norah Jones\": 3.0, \"Phoenix\": 5.0, \"Slightly Stoopid\": 4.0, \"The Strokes\": 5.0},\n",
    " \"Veronica\": {\"Blues Traveler\": 3.0, \"Norah Jones\": 5.0, \"Phoenix\": 4.0, \"Slightly Stoopid\": 2.5, \"The Strokes\": 3.0}\n",
    " }"
   ]
  },
  {
   "cell_type": "markdown",
   "metadata": {},
   "source": [
    "### 计算曼哈顿距离"
   ]
  },
  {
   "cell_type": "code",
   "execution_count": 5,
   "metadata": {},
   "outputs": [],
   "source": [
    "def manhattan(rating1, rating2):\n",
    "    distance = 0\n",
    "    for key in rating1:\n",
    "        if key in rating2:\n",
    "            distance += abs(rating1[key] - rating2[key])\n",
    "    return distance"
   ]
  },
  {
   "cell_type": "code",
   "execution_count": 6,
   "metadata": {},
   "outputs": [
    {
     "data": {
      "text/plain": [
       "2.0"
      ]
     },
     "execution_count": 6,
     "metadata": {},
     "output_type": "execute_result"
    }
   ],
   "source": [
    "manhattan(users['Hailey'], users['Veronica'])"
   ]
  },
  {
   "cell_type": "markdown",
   "metadata": {},
   "source": [
    "下面我们编写一个函数来找出距离最近的用户:"
   ]
  },
  {
   "cell_type": "code",
   "execution_count": 7,
   "metadata": {},
   "outputs": [],
   "source": [
    "def computeNearestNeighbor(username, users):\n",
    "    distances = []\n",
    "    for user in users:\n",
    "        if user != username:\n",
    "            distance = manhattan(users[user], users[username])\n",
    "            distances.append((distance, user))\n",
    "    #按距离由小到大排序\n",
    "    distances.sort()\n",
    "    return distances"
   ]
  },
  {
   "cell_type": "code",
   "execution_count": 8,
   "metadata": {},
   "outputs": [
    {
     "data": {
      "text/plain": [
       "[(2.0, 'Veronica'),\n",
       " (4.0, 'Chan'),\n",
       " (4.0, 'Sam'),\n",
       " (4.5, 'Dan'),\n",
       " (5.0, 'Angelica'),\n",
       " (5.5, 'Bill'),\n",
       " (7.5, 'Jordyn')]"
      ]
     },
     "execution_count": 8,
     "metadata": {},
     "output_type": "execute_result"
    }
   ],
   "source": [
    "computeNearestNeighbor('Hailey', users)"
   ]
  },
  {
   "cell_type": "code",
   "execution_count": 10,
   "metadata": {},
   "outputs": [],
   "source": [
    "def recommend(username, users):\n",
    "    \"\"\"返回推荐结果列表\"\"\"\n",
    "    # 找到距离最近的用户\n",
    "    nearest = computeNearestNeighbor(username, users)[0][1]\n",
    "    recommendations = []\n",
    "    # 找出这位用户评价过、但自己未曾评价的乐队\n",
    "    neighborRatings = users[nearest]\n",
    "    userRatings = users[username]\n",
    "    for artist in neighborRatings:\n",
    "        if not artist in userRatings:\n",
    "            recommendations.append((artist, neighborRatings[artist]))\n",
    "    # 按照评分进行排序\n",
    "    return sorted(recommendations, key=lambda artistTuple: artistTuple[1], reverse = True)"
   ]
  },
  {
   "cell_type": "code",
   "execution_count": 11,
   "metadata": {},
   "outputs": [
    {
     "data": {
      "text/plain": [
       "[('Phoenix', 4.0), ('Blues Traveler', 3.0), ('Slightly Stoopid', 2.5)]"
      ]
     },
     "execution_count": 11,
     "metadata": {},
     "output_type": "execute_result"
    }
   ],
   "source": [
    "recommend('Hailey', users)"
   ]
  },
  {
   "cell_type": "code",
   "execution_count": 12,
   "metadata": {},
   "outputs": [],
   "source": [
    "def minkowski(rating1, rating2, r):\n",
    "    distance = 0\n",
    "    for key in rating1:\n",
    "        if key in rating2:\n",
    "            distance += pow(abs(rating1[key] - rating2[key]), r)\n",
    "    return pow(distance, 1.0 / r)\n",
    "\n",
    "\n",
    "def mkicomputeNearestNeighbor(username, users):\n",
    "    distances = []\n",
    "    for user in users:\n",
    "        if user != username:\n",
    "            distance = minkowski(users[user], users[username], 2)# 这里 2 表示使用欧几里得距离\n",
    "            distances.append((distance, user))\n",
    "    #按距离由小到大排序\n",
    "    distances.sort()\n",
    "    return distances"
   ]
  },
  {
   "cell_type": "code",
   "execution_count": 13,
   "metadata": {},
   "outputs": [
    {
     "data": {
      "text/plain": [
       "[(1.4142135623730951, 'Veronica'),\n",
       " (2.449489742783178, 'Sam'),\n",
       " (2.7386127875258306, 'Angelica'),\n",
       " (3.1622776601683795, 'Chan'),\n",
       " (3.640054944640259, 'Bill'),\n",
       " (3.640054944640259, 'Dan'),\n",
       " (4.387482193696061, 'Jordyn')]"
      ]
     },
     "execution_count": 13,
     "metadata": {},
     "output_type": "execute_result"
    }
   ],
   "source": [
    "mkicomputeNearestNeighbor('Hailey', users)"
   ]
  },
  {
   "cell_type": "markdown",
   "metadata": {},
   "source": [
    "不同用户的评分标准不同，我们可以使用皮尔逊相关系数进行解决。\n",
    "## 皮尔逊相关系数\n",
    "这种现象在数据挖掘中称为“分数膨胀”，我们先看下面的数据：\n",
    "![title](rating2.png)\n",
    "我们可以对其进行绘图："
   ]
  },
  {
   "cell_type": "code",
   "execution_count": 5,
   "metadata": {},
   "outputs": [
    {
     "data": {
      "image/png": "[encoded data removed]",
      "text/plain": [
       "<Figure size 432x288 with 1 Axes>"
      ]
     },
     "metadata": {},
     "output_type": "display_data"
    }
   ],
   "source": [
    "import matplotlib.pyplot as plt\n",
    "Robert=[1, 2, 3, 4, 5]\n",
    "Clara=[4, 4.25, 4.5, 4.75, 5]\n",
    "Bands=['Weird AI','The Strokes', 'Phoenix', 'Norah Jones', 'Blues Traveler']\n",
    "plt.plot(Robert, Clara, 'g*-')\n",
    "plt.xlabel('Robert')\n",
    "plt.ylabel('Clara')\n",
    "for r, c, b in zip(Robert, Clara, Bands):\n",
    "    plt.text(r, c+0.03, b, ha='center', va='bottom', fontsize=10.5)\n",
    "plt.show()"
   ]
  },
  {
   "cell_type": "markdown",
   "metadata": {},
   "source": [
    "一条斜率为正的直线意味着相关性为1，相关性系数介于-1和1之间\n",
    "\n",
    "皮尔逊相关系数的定义：\n",
    "$$r=\\frac{\\sum_{i=1}^n(x_i-\\bar{x})(y_i-\\bar{y})}{\\sqrt{\\sum_{i=1}^n(x_i-\\bar{x})^2} \\quad \\sqrt{\\sum_{i=1}^n(y_i-\\bar{y})^2} \\quad } \\quad$$\n",
    "\n",
    "这个公式要获得计算结果必须对数据做多次遍历。好在我们有另外一个公式，能够计算皮尔逊相关系数的近似值：\n",
    "\n",
    "$$r=\\frac{\\sum_{i=1}^nx_iy_i-\\frac{\\sum_{i=1}^nx_i\\sum_{i=1}^ny_i}{n} \\quad}{\\sqrt\\sum_{i=1}^nx_i^2-\\frac{(\\sum_{i=1}^nx_i)^2}{n} \\quad \\quad \\sqrt\\sum_{i=1}^ny_i^2-\\frac{(\\sum_{i=1}^ny_i)^2}{n} \\quad \\quad} \\quad$$\n",
    "\n",
    "这个公式虽然看起来更加复杂，而且其计算结果会不太稳定，有一定误差存在，但\n",
    "它最大的优点是，用代码实现的时候可以只遍历一次数据\n",
    "\n",
    "计算皮尔逊相关系数："
   ]
  },
  {
   "cell_type": "code",
   "execution_count": 6,
   "metadata": {},
   "outputs": [],
   "source": [
    "from math import sqrt\n",
    "def pearson(rating1, rating2):\n",
    "    sum_xy = 0\n",
    "    sum_x = 0\n",
    "    sum_y = 0\n",
    "    sum_x2 = 0\n",
    "    sum_y2 = 0\n",
    "    n = 0\n",
    "    for key in rating1:\n",
    "        if key in rating2:\n",
    "            n += 1\n",
    "            x = rating1[key]\n",
    "            y = rating2[key]\n",
    "            sum_xy += x * y\n",
    "            sum_x += x\n",
    "            sum_y += y\n",
    "            sum_x2 += pow(x, 2)\n",
    "            sum_y2 += pow(y, 2)\n",
    "    # 计算分母\n",
    "    denominator = sqrt(sum_x2 - pow(sum_x, 2) / n) * sqrt(sum_y2 - pow(sum_y, 2) / n)\n",
    "    if denominator == 0:\n",
    "        return 0\n",
    "    else:\n",
    "        return (sum_xy - (sum_x * sum_y) / n) / denominator"
   ]
  },
  {
   "cell_type": "markdown",
   "metadata": {},
   "source": [
    "真正的求皮尔逊相关系数"
   ]
  },
  {
   "cell_type": "code",
   "execution_count": 23,
   "metadata": {},
   "outputs": [],
   "source": [
    "import numpy as np\n",
    "def Pearson(rating1, rating2):  \n",
    "    n = 0\n",
    "    r1=[]\n",
    "    r2=[]\n",
    "    r_1=[]\n",
    "    r_2=[]\n",
    "    for key in rating1:\n",
    "        if key in rating2:\n",
    "            n += 1\n",
    "            r1.append(rating1[key])\n",
    "            r2.append(rating2[key])\n",
    "    xm = np.mean(r1)\n",
    "    ym = np.mean(r2)\n",
    "    xi = 0\n",
    "    yi = 0\n",
    "    for ra in r1:\n",
    "        xi += (ra - xm)\n",
    "        r_1.append(xi)\n",
    "    for rb in r2:\n",
    "        yi += (rb - ym)\n",
    "        r_2.append(yi)\n",
    "    numerator = 0\n",
    "    denominator1 = 0\n",
    "    denominator2 = 0\n",
    "    for i in range(len(r_1)):\n",
    "        numerator += r_1[i] * r_2[i]\n",
    "        denominator1 += pow(r_1[i],2)\n",
    "        denominator2 += pow(r_2[i],2)\n",
    "    denominator = sqrt(denominator1)*sqrt(denominator2)\n",
    "    return numerator/denominator"
   ]
  },
  {
   "cell_type": "code",
   "execution_count": 10,
   "metadata": {},
   "outputs": [
    {
     "data": {
      "text/plain": [
       "-0.9040534990682699"
      ]
     },
     "execution_count": 10,
     "metadata": {},
     "output_type": "execute_result"
    }
   ],
   "source": [
    "pearson(users['Angelica'], users['Bill'])"
   ]
  },
  {
   "cell_type": "code",
   "execution_count": 24,
   "metadata": {},
   "outputs": [
    {
     "data": {
      "text/plain": [
       "-0.9011170911773961"
      ]
     },
     "execution_count": 24,
     "metadata": {},
     "output_type": "execute_result"
    }
   ],
   "source": [
    "Pearson(users['Angelica'], users['Bill'])"
   ]
  },
  {
   "cell_type": "markdown",
   "metadata": {},
   "source": [
    "可以看到两者相差并不大。\n",
    "## 余弦相似度\n",
    "这个概念在文本挖掘中应用的较多，在协同过滤中也会使用到。\n",
    "![title](rating3.png)\n",
    "简单扫一眼上面的数据（或者用之前讲过的距离计算公式），我们可以发现 Ann的偏好和 Sally 更为相似。\n",
    "\n",
    "对于总体的数据而言，单个用户的数据是稀疏的，因为非零值，也就是用户数据真正的有效记录，较总体而言要少的多。某两个用户之间可能没有交集。\n",
    "\n",
    "而余弦相似度会略过非零值。它的计算公式是：\n",
    "\n",
    "$$cos(x,y)=\\frac{x·y}{||x||\\times||y||} \\quad$$\n",
    "\n",
    "余弦相似度的范围从1到-1，1表示完全匹配，-1表示完全相悖"
   ]
  },
  {
   "cell_type": "code",
   "execution_count": null,
   "metadata": {},
   "outputs": [],
   "source": []
  }
 ],
 "metadata": {
  "kernelspec": {
   "display_name": "Python 3",
   "language": "python",
   "name": "python3"
  },
  "language_info": {
   "codemirror_mode": {
    "name": "ipython",
    "version": 3
   },
   "file_extension": ".py",
   "mimetype": "text/x-python",
   "name": "python",
   "nbconvert_exporter": "python",
   "pygments_lexer": "ipython3",
   "version": "3.6.5"
  }
 },
 "nbformat": 4,
 "nbformat_minor": 2
}
